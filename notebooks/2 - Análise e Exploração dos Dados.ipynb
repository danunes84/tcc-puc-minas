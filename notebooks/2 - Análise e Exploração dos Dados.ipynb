{
 "cells": [
  {
   "cell_type": "markdown",
   "metadata": {},
   "source": [
    "# Análise e exploração dos dados"
   ]
  },
  {
   "cell_type": "markdown",
   "metadata": {},
   "source": [
    "Nesse notebook serão realizadas as análises e exploração do dataset criado no Notebook 1 – Coleta e Processamento-Tratamento dos Dados, com o uso da biblioteca gráfica matplotlib.pyplot"
   ]
  },
  {
   "cell_type": "code",
   "execution_count": 1,
   "metadata": {},
   "outputs": [],
   "source": [
    "import numpy as np\n",
    "import pandas as pd\n",
    "import warnings\n",
    "import matplotlib.pyplot as plt\n",
    "warnings.filterwarnings(\"ignore\")"
   ]
  },
  {
   "cell_type": "markdown",
   "metadata": {},
   "source": [
    "* Importação do dataset gerado no Notebook 1 – Coleta e Processamento-Tratamento dos Dados \n",
    "\n",
    "O dataset dadostratados.csv deve permanecer na pasta: C:\\TCC\\DATASETS"
   ]
  },
  {
   "cell_type": "code",
   "execution_count": 2,
   "metadata": {},
   "outputs": [
    {
     "data": {
      "text/html": [
       "<div>\n",
       "<style scoped>\n",
       "    .dataframe tbody tr th:only-of-type {\n",
       "        vertical-align: middle;\n",
       "    }\n",
       "\n",
       "    .dataframe tbody tr th {\n",
       "        vertical-align: top;\n",
       "    }\n",
       "\n",
       "    .dataframe thead th {\n",
       "        text-align: right;\n",
       "    }\n",
       "</style>\n",
       "<table border=\"1\" class=\"dataframe\">\n",
       "  <thead>\n",
       "    <tr style=\"text-align: right;\">\n",
       "      <th></th>\n",
       "      <th>br</th>\n",
       "      <th>causa_acidente</th>\n",
       "      <th>condicao_metereologica</th>\n",
       "      <th>dia_semana</th>\n",
       "      <th>fase_dia</th>\n",
       "      <th>pessoas</th>\n",
       "      <th>sentido_via</th>\n",
       "      <th>tipo_acidente</th>\n",
       "      <th>tipo_pista</th>\n",
       "      <th>tracado_via</th>\n",
       "      <th>...</th>\n",
       "      <th>veiculos</th>\n",
       "      <th>tipo_veiculo</th>\n",
       "      <th>ano_fabricacao_veiculo</th>\n",
       "      <th>tipo_envolvido</th>\n",
       "      <th>estado_fisico</th>\n",
       "      <th>sexo</th>\n",
       "      <th>ano</th>\n",
       "      <th>mes</th>\n",
       "      <th>hora</th>\n",
       "      <th>faixa_etaria</th>\n",
       "    </tr>\n",
       "  </thead>\n",
       "  <tbody>\n",
       "    <tr>\n",
       "      <th>0</th>\n",
       "      <td>101</td>\n",
       "      <td>outras</td>\n",
       "      <td>ceu claro</td>\n",
       "      <td>segunda</td>\n",
       "      <td>pleno dia</td>\n",
       "      <td>3</td>\n",
       "      <td>Crescente</td>\n",
       "      <td>colisão transversal</td>\n",
       "      <td>Dupla</td>\n",
       "      <td>Reta</td>\n",
       "      <td>...</td>\n",
       "      <td>2</td>\n",
       "      <td>caminhão</td>\n",
       "      <td>1997</td>\n",
       "      <td>Condutor</td>\n",
       "      <td>ileso</td>\n",
       "      <td>masculino</td>\n",
       "      <td>2011</td>\n",
       "      <td>10</td>\n",
       "      <td>11</td>\n",
       "      <td>[15-24]</td>\n",
       "    </tr>\n",
       "    <tr>\n",
       "      <th>1</th>\n",
       "      <td>101</td>\n",
       "      <td>outras</td>\n",
       "      <td>ceu claro</td>\n",
       "      <td>segunda</td>\n",
       "      <td>pleno dia</td>\n",
       "      <td>3</td>\n",
       "      <td>Crescente</td>\n",
       "      <td>colisão transversal</td>\n",
       "      <td>Dupla</td>\n",
       "      <td>Reta</td>\n",
       "      <td>...</td>\n",
       "      <td>2</td>\n",
       "      <td>motocicleta</td>\n",
       "      <td>2008</td>\n",
       "      <td>Condutor</td>\n",
       "      <td>ferido grave</td>\n",
       "      <td>masculino</td>\n",
       "      <td>2011</td>\n",
       "      <td>10</td>\n",
       "      <td>11</td>\n",
       "      <td>[25-34]</td>\n",
       "    </tr>\n",
       "    <tr>\n",
       "      <th>2</th>\n",
       "      <td>101</td>\n",
       "      <td>outras</td>\n",
       "      <td>ceu claro</td>\n",
       "      <td>segunda</td>\n",
       "      <td>pleno dia</td>\n",
       "      <td>3</td>\n",
       "      <td>Crescente</td>\n",
       "      <td>colisão transversal</td>\n",
       "      <td>Dupla</td>\n",
       "      <td>Reta</td>\n",
       "      <td>...</td>\n",
       "      <td>2</td>\n",
       "      <td>motocicleta</td>\n",
       "      <td>2008</td>\n",
       "      <td>Passageiro</td>\n",
       "      <td>ferido grave</td>\n",
       "      <td>feminino</td>\n",
       "      <td>2011</td>\n",
       "      <td>10</td>\n",
       "      <td>11</td>\n",
       "      <td>Ignorada</td>\n",
       "    </tr>\n",
       "    <tr>\n",
       "      <th>3</th>\n",
       "      <td>381</td>\n",
       "      <td>outras</td>\n",
       "      <td>sol</td>\n",
       "      <td>sexta</td>\n",
       "      <td>amanhecer</td>\n",
       "      <td>1</td>\n",
       "      <td>Decrescente</td>\n",
       "      <td>saída de pista</td>\n",
       "      <td>Dupla</td>\n",
       "      <td>Reta</td>\n",
       "      <td>...</td>\n",
       "      <td>1</td>\n",
       "      <td>caminhão-trator</td>\n",
       "      <td>1997</td>\n",
       "      <td>Condutor</td>\n",
       "      <td>ileso</td>\n",
       "      <td>masculino</td>\n",
       "      <td>2011</td>\n",
       "      <td>10</td>\n",
       "      <td>6</td>\n",
       "      <td>[55-64]</td>\n",
       "    </tr>\n",
       "    <tr>\n",
       "      <th>4</th>\n",
       "      <td>407</td>\n",
       "      <td>falta de atenção</td>\n",
       "      <td>ceu claro</td>\n",
       "      <td>sexta</td>\n",
       "      <td>pleno dia</td>\n",
       "      <td>3</td>\n",
       "      <td>Crescente</td>\n",
       "      <td>colisão traseira</td>\n",
       "      <td>Simples</td>\n",
       "      <td>Reta</td>\n",
       "      <td>...</td>\n",
       "      <td>3</td>\n",
       "      <td>automóvel</td>\n",
       "      <td>2002</td>\n",
       "      <td>Condutor</td>\n",
       "      <td>ileso</td>\n",
       "      <td>masculino</td>\n",
       "      <td>2011</td>\n",
       "      <td>10</td>\n",
       "      <td>16</td>\n",
       "      <td>[25-34]</td>\n",
       "    </tr>\n",
       "  </tbody>\n",
       "</table>\n",
       "<p>5 rows × 22 columns</p>\n",
       "</div>"
      ],
      "text/plain": [
       "    br    causa_acidente condicao_metereologica dia_semana   fase_dia  \\\n",
       "0  101            outras              ceu claro    segunda  pleno dia   \n",
       "1  101            outras              ceu claro    segunda  pleno dia   \n",
       "2  101            outras              ceu claro    segunda  pleno dia   \n",
       "3  381            outras                    sol      sexta  amanhecer   \n",
       "4  407  falta de atenção              ceu claro      sexta  pleno dia   \n",
       "\n",
       "   pessoas  sentido_via        tipo_acidente tipo_pista tracado_via  ...  \\\n",
       "0        3    Crescente  colisão transversal      Dupla        Reta  ...   \n",
       "1        3    Crescente  colisão transversal      Dupla        Reta  ...   \n",
       "2        3    Crescente  colisão transversal      Dupla        Reta  ...   \n",
       "3        1  Decrescente       saída de pista      Dupla        Reta  ...   \n",
       "4        3    Crescente     colisão traseira    Simples        Reta  ...   \n",
       "\n",
       "  veiculos     tipo_veiculo  ano_fabricacao_veiculo tipo_envolvido  \\\n",
       "0        2         caminhão                    1997       Condutor   \n",
       "1        2      motocicleta                    2008       Condutor   \n",
       "2        2      motocicleta                    2008     Passageiro   \n",
       "3        1  caminhão-trator                    1997       Condutor   \n",
       "4        3        automóvel                    2002       Condutor   \n",
       "\n",
       "   estado_fisico       sexo   ano mes  hora  faixa_etaria  \n",
       "0          ileso  masculino  2011  10    11       [15-24]  \n",
       "1   ferido grave  masculino  2011  10    11       [25-34]  \n",
       "2   ferido grave   feminino  2011  10    11      Ignorada  \n",
       "3          ileso  masculino  2011  10     6       [55-64]  \n",
       "4          ileso  masculino  2011  10    16       [25-34]  \n",
       "\n",
       "[5 rows x 22 columns]"
      ]
     },
     "execution_count": 2,
     "metadata": {},
     "output_type": "execute_result"
    }
   ],
   "source": [
    "#Diretório e leitura do dataset\n",
    "path = r'C:\\TCC\\DATASETS\\dadostratados.csv'\n",
    "#Importação na codificação \"utf-8\"\n",
    "df = pd.read_csv(path, sep = ',', decimal=\",\", encoding = \"utf-8\",index_col=0)\n",
    "#Mostrando as 05 primeiras colunas\n",
    "df.head()"
   ]
  },
  {
   "cell_type": "code",
   "execution_count": 3,
   "metadata": {},
   "outputs": [
    {
     "name": "stdout",
     "output_type": "stream",
     "text": [
      "<class 'pandas.core.frame.DataFrame'>\n",
      "Int64Index: 2704727 entries, 0 to 2704814\n",
      "Data columns (total 22 columns):\n",
      "br                        int64\n",
      "causa_acidente            object\n",
      "condicao_metereologica    object\n",
      "dia_semana                object\n",
      "fase_dia                  object\n",
      "pessoas                   int64\n",
      "sentido_via               object\n",
      "tipo_acidente             object\n",
      "tipo_pista                object\n",
      "tracado_via               object\n",
      "uf                        object\n",
      "uso_solo                  object\n",
      "veiculos                  int64\n",
      "tipo_veiculo              object\n",
      "ano_fabricacao_veiculo    int64\n",
      "tipo_envolvido            object\n",
      "estado_fisico             object\n",
      "sexo                      object\n",
      "ano                       int64\n",
      "mes                       int64\n",
      "hora                      int64\n",
      "faixa_etaria              object\n",
      "dtypes: int64(7), object(15)\n",
      "memory usage: 474.6+ MB\n"
     ]
    }
   ],
   "source": [
    "df.info()"
   ]
  },
  {
   "cell_type": "markdown",
   "metadata": {},
   "source": [
    "##### Quantidade de vítimas acidentadas por ano"
   ]
  },
  {
   "cell_type": "code",
   "execution_count": 4,
   "metadata": {},
   "outputs": [
    {
     "data": {
      "text/plain": [
       "Text(0, 0.5, 'Quantidade de vítimas')"
      ]
     },
     "execution_count": 4,
     "metadata": {},
     "output_type": "execute_result"
    },
    {
     "data": {
      "image/png": "[encoded data removed]",
      "text/plain": [
       "<Figure size 864x288 with 1 Axes>"
      ]
     },
     "metadata": {
      "needs_background": "light"
     },
     "output_type": "display_data"
    }
   ],
   "source": [
    "acidentes_por_ano = df.ano.value_counts()\n",
    "\n",
    "plt.figure(figsize=(12,4))\n",
    "plt.bar(np.arange(10), acidentes_por_ano.sort_index())\n",
    "ticks = plt.xticks(np.arange(10), [2011, 2012, 2013, 2014, 2015, 2016, 2017, 2018, 2019, 2020])\n",
    "plt.ylabel('Quantidade de vítimas')"
   ]
  },
  {
   "cell_type": "markdown",
   "metadata": {},
   "source": [
    "#### Quantidade de vítimas acidentadas nesses 10 anos, de acordo com o seu estado físico"
   ]
  },
  {
   "cell_type": "code",
   "execution_count": 5,
   "metadata": {},
   "outputs": [
    {
     "data": {
      "text/plain": [
       "ileso           0.648323\n",
       "ferido leve     0.244788\n",
       "ferido grave    0.081824\n",
       "óbito           0.025065\n",
       "Name: estado_fisico, dtype: float64"
      ]
     },
     "execution_count": 5,
     "metadata": {},
     "output_type": "execute_result"
    },
    {
     "data": {
      "image/png": "[encoded data removed]",
      "text/plain": [
       "<Figure size 864x288 with 1 Axes>"
      ]
     },
     "metadata": {
      "needs_background": "light"
     },
     "output_type": "display_data"
    }
   ],
   "source": [
    "acidentes_por_estado_fisico = df.estado_fisico.value_counts()\n",
    "\n",
    "plt.figure(figsize=(12,4))\n",
    "plt.bar(np.arange(4), acidentes_por_estado_fisico.sort_index())\n",
    "ticks = plt.xticks(np.arange(4), ['Ferido Grave','Ferido Leve','Ileso','Óbito'])\n",
    "plt.ylabel('Quantidade de vítimas')\n",
    "df['estado_fisico'].value_counts(normalize=True)"
   ]
  },
  {
   "cell_type": "markdown",
   "metadata": {},
   "source": [
    "#### Evolução ano a ano das vítimas"
   ]
  },
  {
   "cell_type": "code",
   "execution_count": 6,
   "metadata": {},
   "outputs": [
    {
     "data": {
      "text/html": [
       "<div>\n",
       "<style scoped>\n",
       "    .dataframe tbody tr th:only-of-type {\n",
       "        vertical-align: middle;\n",
       "    }\n",
       "\n",
       "    .dataframe tbody tr th {\n",
       "        vertical-align: top;\n",
       "    }\n",
       "\n",
       "    .dataframe thead th {\n",
       "        text-align: right;\n",
       "    }\n",
       "</style>\n",
       "<table border=\"1\" class=\"dataframe\">\n",
       "  <thead>\n",
       "    <tr style=\"text-align: right;\">\n",
       "      <th>ano</th>\n",
       "      <th>2011</th>\n",
       "      <th>2012</th>\n",
       "      <th>2013</th>\n",
       "      <th>2014</th>\n",
       "      <th>2015</th>\n",
       "      <th>2016</th>\n",
       "      <th>2017</th>\n",
       "      <th>2018</th>\n",
       "      <th>2019</th>\n",
       "      <th>2020</th>\n",
       "      <th>estado_fisico</th>\n",
       "    </tr>\n",
       "    <tr>\n",
       "      <th>estado_fisico</th>\n",
       "      <th></th>\n",
       "      <th></th>\n",
       "      <th></th>\n",
       "      <th></th>\n",
       "      <th></th>\n",
       "      <th></th>\n",
       "      <th></th>\n",
       "      <th></th>\n",
       "      <th></th>\n",
       "      <th></th>\n",
       "      <th></th>\n",
       "    </tr>\n",
       "  </thead>\n",
       "  <tbody>\n",
       "    <tr>\n",
       "      <th>ferido grave</th>\n",
       "      <td>29051</td>\n",
       "      <td>28291</td>\n",
       "      <td>26962</td>\n",
       "      <td>26239</td>\n",
       "      <td>22508</td>\n",
       "      <td>21423</td>\n",
       "      <td>18718</td>\n",
       "      <td>17706</td>\n",
       "      <td>18573</td>\n",
       "      <td>11841</td>\n",
       "      <td>ferido grave</td>\n",
       "    </tr>\n",
       "    <tr>\n",
       "      <th>ferido leve</th>\n",
       "      <td>77776</td>\n",
       "      <td>76177</td>\n",
       "      <td>76848</td>\n",
       "      <td>74604</td>\n",
       "      <td>67743</td>\n",
       "      <td>65250</td>\n",
       "      <td>65607</td>\n",
       "      <td>58941</td>\n",
       "      <td>60500</td>\n",
       "      <td>38638</td>\n",
       "      <td>ferido leve</td>\n",
       "    </tr>\n",
       "    <tr>\n",
       "      <th>ileso</th>\n",
       "      <td>296780</td>\n",
       "      <td>283780</td>\n",
       "      <td>293584</td>\n",
       "      <td>259451</td>\n",
       "      <td>171934</td>\n",
       "      <td>123191</td>\n",
       "      <td>113843</td>\n",
       "      <td>82883</td>\n",
       "      <td>77866</td>\n",
       "      <td>50226</td>\n",
       "      <td>ileso</td>\n",
       "    </tr>\n",
       "    <tr>\n",
       "      <th>óbito</th>\n",
       "      <td>8675</td>\n",
       "      <td>8663</td>\n",
       "      <td>8426</td>\n",
       "      <td>8235</td>\n",
       "      <td>6867</td>\n",
       "      <td>6398</td>\n",
       "      <td>6248</td>\n",
       "      <td>5271</td>\n",
       "      <td>5333</td>\n",
       "      <td>3677</td>\n",
       "      <td>óbito</td>\n",
       "    </tr>\n",
       "  </tbody>\n",
       "</table>\n",
       "</div>"
      ],
      "text/plain": [
       "ano              2011    2012    2013    2014    2015    2016    2017   2018  \\\n",
       "estado_fisico                                                                  \n",
       "ferido grave    29051   28291   26962   26239   22508   21423   18718  17706   \n",
       "ferido leve     77776   76177   76848   74604   67743   65250   65607  58941   \n",
       "ileso          296780  283780  293584  259451  171934  123191  113843  82883   \n",
       "óbito            8675    8663    8426    8235    6867    6398    6248   5271   \n",
       "\n",
       "ano             2019   2020 estado_fisico  \n",
       "estado_fisico                              \n",
       "ferido grave   18573  11841  ferido grave  \n",
       "ferido leve    60500  38638   ferido leve  \n",
       "ileso          77866  50226         ileso  \n",
       "óbito           5333   3677         óbito  "
      ]
     },
     "execution_count": 6,
     "metadata": {},
     "output_type": "execute_result"
    }
   ],
   "source": [
    "tipo_acidente_por_ano = df.groupby(['estado_fisico', 'ano']).size().unstack()\n",
    "tipo_acidente_por_ano['estado_fisico'] = tipo_acidente_por_ano.index\n",
    "tipo_acidente_por_ano.head()"
   ]
  },
  {
   "cell_type": "markdown",
   "metadata": {},
   "source": [
    "#### Quantidade de vítimas acidentadas por mês"
   ]
  },
  {
   "cell_type": "code",
   "execution_count": 7,
   "metadata": {},
   "outputs": [
    {
     "data": {
      "text/plain": [
       "Text(0, 0.5, 'Quantidade de vítimas')"
      ]
     },
     "execution_count": 7,
     "metadata": {},
     "output_type": "execute_result"
    },
    {
     "data": {
      "image/png": "[encoded data removed]",
      "text/plain": [
       "<Figure size 864x288 with 1 Axes>"
      ]
     },
     "metadata": {
      "needs_background": "light"
     },
     "output_type": "display_data"
    }
   ],
   "source": [
    "acidentes_por_mes = df.mes.value_counts()\n",
    "\n",
    "plt.figure(figsize=(12,4))\n",
    "plt.bar(np.arange(12), acidentes_por_mes.sort_index())\n",
    "ticks = plt.xticks(np.arange(12), ['jan', 'fev', 'mar', 'abr', 'mai', 'jun', 'jul', 'ago', 'set', 'out', 'nov', 'dez'])\n",
    "plt.ylabel('Quantidade de vítimas')"
   ]
  },
  {
   "cell_type": "code",
   "execution_count": 8,
   "metadata": {},
   "outputs": [
    {
     "data": {
      "text/html": [
       "<div>\n",
       "<style scoped>\n",
       "    .dataframe tbody tr th:only-of-type {\n",
       "        vertical-align: middle;\n",
       "    }\n",
       "\n",
       "    .dataframe tbody tr th {\n",
       "        vertical-align: top;\n",
       "    }\n",
       "\n",
       "    .dataframe thead th {\n",
       "        text-align: right;\n",
       "    }\n",
       "</style>\n",
       "<table border=\"1\" class=\"dataframe\">\n",
       "  <thead>\n",
       "    <tr style=\"text-align: right;\">\n",
       "      <th>estado_fisico</th>\n",
       "      <th>ferido grave</th>\n",
       "      <th>ferido leve</th>\n",
       "      <th>ileso</th>\n",
       "      <th>óbito</th>\n",
       "    </tr>\n",
       "    <tr>\n",
       "      <th>mes</th>\n",
       "      <th></th>\n",
       "      <th></th>\n",
       "      <th></th>\n",
       "      <th></th>\n",
       "    </tr>\n",
       "  </thead>\n",
       "  <tbody>\n",
       "    <tr>\n",
       "      <th>12</th>\n",
       "      <td>19793</td>\n",
       "      <td>60862</td>\n",
       "      <td>155156</td>\n",
       "      <td>6211</td>\n",
       "    </tr>\n",
       "    <tr>\n",
       "      <th>7</th>\n",
       "      <td>19123</td>\n",
       "      <td>56001</td>\n",
       "      <td>149561</td>\n",
       "      <td>6086</td>\n",
       "    </tr>\n",
       "    <tr>\n",
       "      <th>5</th>\n",
       "      <td>18723</td>\n",
       "      <td>53968</td>\n",
       "      <td>150163</td>\n",
       "      <td>5839</td>\n",
       "    </tr>\n",
       "    <tr>\n",
       "      <th>9</th>\n",
       "      <td>18826</td>\n",
       "      <td>54975</td>\n",
       "      <td>138130</td>\n",
       "      <td>5828</td>\n",
       "    </tr>\n",
       "    <tr>\n",
       "      <th>8</th>\n",
       "      <td>18815</td>\n",
       "      <td>55283</td>\n",
       "      <td>138530</td>\n",
       "      <td>5797</td>\n",
       "    </tr>\n",
       "    <tr>\n",
       "      <th>3</th>\n",
       "      <td>18640</td>\n",
       "      <td>55798</td>\n",
       "      <td>152682</td>\n",
       "      <td>5680</td>\n",
       "    </tr>\n",
       "    <tr>\n",
       "      <th>1</th>\n",
       "      <td>18996</td>\n",
       "      <td>60306</td>\n",
       "      <td>162228</td>\n",
       "      <td>5677</td>\n",
       "    </tr>\n",
       "    <tr>\n",
       "      <th>6</th>\n",
       "      <td>18650</td>\n",
       "      <td>53455</td>\n",
       "      <td>144635</td>\n",
       "      <td>5672</td>\n",
       "    </tr>\n",
       "    <tr>\n",
       "      <th>4</th>\n",
       "      <td>17917</td>\n",
       "      <td>55077</td>\n",
       "      <td>151003</td>\n",
       "      <td>5384</td>\n",
       "    </tr>\n",
       "    <tr>\n",
       "      <th>11</th>\n",
       "      <td>16662</td>\n",
       "      <td>50572</td>\n",
       "      <td>132499</td>\n",
       "      <td>5255</td>\n",
       "    </tr>\n",
       "    <tr>\n",
       "      <th>10</th>\n",
       "      <td>17687</td>\n",
       "      <td>52110</td>\n",
       "      <td>134952</td>\n",
       "      <td>5224</td>\n",
       "    </tr>\n",
       "    <tr>\n",
       "      <th>2</th>\n",
       "      <td>17480</td>\n",
       "      <td>53677</td>\n",
       "      <td>143999</td>\n",
       "      <td>5140</td>\n",
       "    </tr>\n",
       "  </tbody>\n",
       "</table>\n",
       "</div>"
      ],
      "text/plain": [
       "estado_fisico  ferido grave  ferido leve   ileso  óbito\n",
       "mes                                                    \n",
       "12                    19793        60862  155156   6211\n",
       "7                     19123        56001  149561   6086\n",
       "5                     18723        53968  150163   5839\n",
       "9                     18826        54975  138130   5828\n",
       "8                     18815        55283  138530   5797\n",
       "3                     18640        55798  152682   5680\n",
       "1                     18996        60306  162228   5677\n",
       "6                     18650        53455  144635   5672\n",
       "4                     17917        55077  151003   5384\n",
       "11                    16662        50572  132499   5255\n",
       "10                    17687        52110  134952   5224\n",
       "2                     17480        53677  143999   5140"
      ]
     },
     "execution_count": 8,
     "metadata": {},
     "output_type": "execute_result"
    }
   ],
   "source": [
    "grouped = df.groupby(['mes', 'estado_fisico']).size().unstack()\n",
    "grouped = grouped.sort_values(['óbito'], ascending=[False])\n",
    "grouped"
   ]
  },
  {
   "cell_type": "markdown",
   "metadata": {},
   "source": [
    "#### Quantidade de vítimas acidentadas por estado"
   ]
  },
  {
   "cell_type": "code",
   "execution_count": 9,
   "metadata": {},
   "outputs": [
    {
     "name": "stdout",
     "output_type": "stream",
     "text": [
      "Os dez Estados com mais vítimas de trânsito:\n",
      "MG    360459\n",
      "PR    300127\n",
      "SC    284992\n",
      "RJ    221061\n",
      "RS    208678\n",
      "SP    182161\n",
      "BA    158397\n",
      "GO    127010\n",
      "PE    112548\n",
      "ES    110132\n",
      "Name: uf, dtype: int64\n"
     ]
    },
    {
     "data": {
      "image/png": "[encoded data removed]",
      "text/plain": [
       "<Figure size 864x288 with 1 Axes>"
      ]
     },
     "metadata": {
      "needs_background": "light"
     },
     "output_type": "display_data"
    }
   ],
   "source": [
    "acidentes_por_estado = df.uf.value_counts()\n",
    "\n",
    "plt.figure(figsize=(12,4))\n",
    "plt.bar(np.arange(28), acidentes_por_estado.sort_index())\n",
    "ticks = plt.xticks(np.arange(28), ['(null)','AC','AL','AM','AP','BA','CE','DF','ES','GO','MA','MG','MS','MT','PA','PB','PE','PI','PR','RJ','RN','RO','RR','RS','SC','SE','SP','TO'])\n",
    "plt.ylabel('Quantidade de vítimas')\n",
    "print('Os dez Estados com mais vítimas de trânsito:')\n",
    "print(df['uf'].value_counts().nlargest(10))"
   ]
  },
  {
   "cell_type": "code",
   "execution_count": 10,
   "metadata": {},
   "outputs": [
    {
     "data": {
      "text/html": [
       "<div>\n",
       "<style scoped>\n",
       "    .dataframe tbody tr th:only-of-type {\n",
       "        vertical-align: middle;\n",
       "    }\n",
       "\n",
       "    .dataframe tbody tr th {\n",
       "        vertical-align: top;\n",
       "    }\n",
       "\n",
       "    .dataframe thead th {\n",
       "        text-align: right;\n",
       "    }\n",
       "</style>\n",
       "<table border=\"1\" class=\"dataframe\">\n",
       "  <thead>\n",
       "    <tr style=\"text-align: right;\">\n",
       "      <th>estado_fisico</th>\n",
       "      <th>ferido grave</th>\n",
       "      <th>ferido leve</th>\n",
       "      <th>ileso</th>\n",
       "      <th>óbito</th>\n",
       "    </tr>\n",
       "    <tr>\n",
       "      <th>uf</th>\n",
       "      <th></th>\n",
       "      <th></th>\n",
       "      <th></th>\n",
       "      <th></th>\n",
       "    </tr>\n",
       "  </thead>\n",
       "  <tbody>\n",
       "    <tr>\n",
       "      <th>MG</th>\n",
       "      <td>32967.0</td>\n",
       "      <td>103684.0</td>\n",
       "      <td>214340.0</td>\n",
       "      <td>9468.0</td>\n",
       "    </tr>\n",
       "    <tr>\n",
       "      <th>PR</th>\n",
       "      <td>24243.0</td>\n",
       "      <td>75024.0</td>\n",
       "      <td>194498.0</td>\n",
       "      <td>6362.0</td>\n",
       "    </tr>\n",
       "    <tr>\n",
       "      <th>BA</th>\n",
       "      <td>12993.0</td>\n",
       "      <td>39565.0</td>\n",
       "      <td>99502.0</td>\n",
       "      <td>6337.0</td>\n",
       "    </tr>\n",
       "    <tr>\n",
       "      <th>SC</th>\n",
       "      <td>21025.0</td>\n",
       "      <td>76271.0</td>\n",
       "      <td>183127.0</td>\n",
       "      <td>4569.0</td>\n",
       "    </tr>\n",
       "    <tr>\n",
       "      <th>RJ</th>\n",
       "      <td>11669.0</td>\n",
       "      <td>47577.0</td>\n",
       "      <td>157634.0</td>\n",
       "      <td>4181.0</td>\n",
       "    </tr>\n",
       "    <tr>\n",
       "      <th>GO</th>\n",
       "      <td>12495.0</td>\n",
       "      <td>32558.0</td>\n",
       "      <td>78069.0</td>\n",
       "      <td>3888.0</td>\n",
       "    </tr>\n",
       "    <tr>\n",
       "      <th>RS</th>\n",
       "      <td>11924.0</td>\n",
       "      <td>45237.0</td>\n",
       "      <td>147688.0</td>\n",
       "      <td>3829.0</td>\n",
       "    </tr>\n",
       "    <tr>\n",
       "      <th>PE</th>\n",
       "      <td>10245.0</td>\n",
       "      <td>23499.0</td>\n",
       "      <td>75077.0</td>\n",
       "      <td>3727.0</td>\n",
       "    </tr>\n",
       "    <tr>\n",
       "      <th>SP</th>\n",
       "      <td>7826.0</td>\n",
       "      <td>40970.0</td>\n",
       "      <td>130562.0</td>\n",
       "      <td>2803.0</td>\n",
       "    </tr>\n",
       "    <tr>\n",
       "      <th>MA</th>\n",
       "      <td>5647.0</td>\n",
       "      <td>9879.0</td>\n",
       "      <td>28492.0</td>\n",
       "      <td>2590.0</td>\n",
       "    </tr>\n",
       "  </tbody>\n",
       "</table>\n",
       "</div>"
      ],
      "text/plain": [
       "estado_fisico  ferido grave  ferido leve     ileso   óbito\n",
       "uf                                                        \n",
       "MG                  32967.0     103684.0  214340.0  9468.0\n",
       "PR                  24243.0      75024.0  194498.0  6362.0\n",
       "BA                  12993.0      39565.0   99502.0  6337.0\n",
       "SC                  21025.0      76271.0  183127.0  4569.0\n",
       "RJ                  11669.0      47577.0  157634.0  4181.0\n",
       "GO                  12495.0      32558.0   78069.0  3888.0\n",
       "RS                  11924.0      45237.0  147688.0  3829.0\n",
       "PE                  10245.0      23499.0   75077.0  3727.0\n",
       "SP                   7826.0      40970.0  130562.0  2803.0\n",
       "MA                   5647.0       9879.0   28492.0  2590.0"
      ]
     },
     "execution_count": 10,
     "metadata": {},
     "output_type": "execute_result"
    }
   ],
   "source": [
    "grouped = df.groupby(['uf', 'estado_fisico']).size().unstack()\n",
    "grouped = grouped.sort_values(['óbito'], ascending=[False])\n",
    "grouped.head(10)"
   ]
  },
  {
   "cell_type": "markdown",
   "metadata": {},
   "source": [
    "#### Quantidade de vítimas acidentadas por hora"
   ]
  },
  {
   "cell_type": "code",
   "execution_count": 11,
   "metadata": {},
   "outputs": [
    {
     "data": {
      "text/plain": [
       "(0, 23)"
      ]
     },
     "execution_count": 11,
     "metadata": {},
     "output_type": "execute_result"
    },
    {
     "data": {
      "image/png": "[encoded data removed]",
      "text/plain": [
       "<Figure size 864x288 with 1 Axes>"
      ]
     },
     "metadata": {
      "needs_background": "light"
     },
     "output_type": "display_data"
    }
   ],
   "source": [
    "acidentes_por_hora = df.hora.value_counts()\n",
    "\n",
    "plt.figure(figsize=(12,4))\n",
    "plt.bar(np.arange(24), acidentes_por_hora.sort_index())\n",
    "plt.ylabel('Quantidade de vítimas')\n",
    "plt.xlim(0,23)"
   ]
  },
  {
   "cell_type": "code",
   "execution_count": 12,
   "metadata": {},
   "outputs": [
    {
     "name": "stdout",
     "output_type": "stream",
     "text": [
      "Os 05 horários com mais óbitos no trânsito:\n"
     ]
    },
    {
     "data": {
      "text/html": [
       "<div>\n",
       "<style scoped>\n",
       "    .dataframe tbody tr th:only-of-type {\n",
       "        vertical-align: middle;\n",
       "    }\n",
       "\n",
       "    .dataframe tbody tr th {\n",
       "        vertical-align: top;\n",
       "    }\n",
       "\n",
       "    .dataframe thead th {\n",
       "        text-align: right;\n",
       "    }\n",
       "</style>\n",
       "<table border=\"1\" class=\"dataframe\">\n",
       "  <thead>\n",
       "    <tr style=\"text-align: right;\">\n",
       "      <th>estado_fisico</th>\n",
       "      <th>ferido grave</th>\n",
       "      <th>ferido leve</th>\n",
       "      <th>ileso</th>\n",
       "      <th>óbito</th>\n",
       "    </tr>\n",
       "    <tr>\n",
       "      <th>hora</th>\n",
       "      <th></th>\n",
       "      <th></th>\n",
       "      <th></th>\n",
       "      <th></th>\n",
       "    </tr>\n",
       "  </thead>\n",
       "  <tbody>\n",
       "    <tr>\n",
       "      <th>18</th>\n",
       "      <td>19004</td>\n",
       "      <td>51298</td>\n",
       "      <td>143130</td>\n",
       "      <td>5542</td>\n",
       "    </tr>\n",
       "    <tr>\n",
       "      <th>19</th>\n",
       "      <td>15792</td>\n",
       "      <td>40536</td>\n",
       "      <td>106054</td>\n",
       "      <td>5240</td>\n",
       "    </tr>\n",
       "    <tr>\n",
       "      <th>20</th>\n",
       "      <td>11553</td>\n",
       "      <td>28314</td>\n",
       "      <td>69815</td>\n",
       "      <td>4265</td>\n",
       "    </tr>\n",
       "    <tr>\n",
       "      <th>21</th>\n",
       "      <td>10021</td>\n",
       "      <td>24234</td>\n",
       "      <td>56744</td>\n",
       "      <td>3628</td>\n",
       "    </tr>\n",
       "    <tr>\n",
       "      <th>17</th>\n",
       "      <td>14524</td>\n",
       "      <td>44760</td>\n",
       "      <td>128215</td>\n",
       "      <td>3468</td>\n",
       "    </tr>\n",
       "  </tbody>\n",
       "</table>\n",
       "</div>"
      ],
      "text/plain": [
       "estado_fisico  ferido grave  ferido leve   ileso  óbito\n",
       "hora                                                   \n",
       "18                    19004        51298  143130   5542\n",
       "19                    15792        40536  106054   5240\n",
       "20                    11553        28314   69815   4265\n",
       "21                    10021        24234   56744   3628\n",
       "17                    14524        44760  128215   3468"
      ]
     },
     "execution_count": 12,
     "metadata": {},
     "output_type": "execute_result"
    }
   ],
   "source": [
    "grouped = df.groupby(['hora', 'estado_fisico']).size().unstack()\n",
    "grouped = grouped.sort_values(['óbito'], ascending=[False])\n",
    "print('Os 05 horários com mais óbitos no trânsito:')\n",
    "grouped.head()"
   ]
  },
  {
   "cell_type": "markdown",
   "metadata": {},
   "source": [
    "#### Quantidade de vítimas acidentadas por tipo de acidente"
   ]
  },
  {
   "cell_type": "code",
   "execution_count": 13,
   "metadata": {},
   "outputs": [
    {
     "data": {
      "image/png": "[encoded data removed]",
      "text/plain": [
       "<Figure size 1080x432 with 1 Axes>"
      ]
     },
     "metadata": {
      "needs_background": "light"
     },
     "output_type": "display_data"
    }
   ],
   "source": [
    "plt.figure(figsize=(15,6))\n",
    "df['tipo_acidente'].value_counts(ascending=True).plot(kind='barh');"
   ]
  },
  {
   "cell_type": "code",
   "execution_count": 14,
   "metadata": {},
   "outputs": [
    {
     "data": {
      "text/html": [
       "<div>\n",
       "<style scoped>\n",
       "    .dataframe tbody tr th:only-of-type {\n",
       "        vertical-align: middle;\n",
       "    }\n",
       "\n",
       "    .dataframe tbody tr th {\n",
       "        vertical-align: top;\n",
       "    }\n",
       "\n",
       "    .dataframe thead th {\n",
       "        text-align: right;\n",
       "    }\n",
       "</style>\n",
       "<table border=\"1\" class=\"dataframe\">\n",
       "  <thead>\n",
       "    <tr style=\"text-align: right;\">\n",
       "      <th>estado_fisico</th>\n",
       "      <th>ferido grave</th>\n",
       "      <th>ferido leve</th>\n",
       "      <th>ileso</th>\n",
       "      <th>óbito</th>\n",
       "    </tr>\n",
       "    <tr>\n",
       "      <th>tipo_acidente</th>\n",
       "      <th></th>\n",
       "      <th></th>\n",
       "      <th></th>\n",
       "      <th></th>\n",
       "    </tr>\n",
       "  </thead>\n",
       "  <tbody>\n",
       "    <tr>\n",
       "      <th>colisão frontal</th>\n",
       "      <td>36973</td>\n",
       "      <td>52854</td>\n",
       "      <td>74304</td>\n",
       "      <td>21341</td>\n",
       "    </tr>\n",
       "    <tr>\n",
       "      <th>atropelamento de pedestre</th>\n",
       "      <td>17279</td>\n",
       "      <td>19284</td>\n",
       "      <td>39957</td>\n",
       "      <td>10914</td>\n",
       "    </tr>\n",
       "    <tr>\n",
       "      <th>saída de pista</th>\n",
       "      <td>27267</td>\n",
       "      <td>110208</td>\n",
       "      <td>155079</td>\n",
       "      <td>7347</td>\n",
       "    </tr>\n",
       "    <tr>\n",
       "      <th>colisão transversal</th>\n",
       "      <td>35025</td>\n",
       "      <td>90962</td>\n",
       "      <td>206816</td>\n",
       "      <td>6142</td>\n",
       "    </tr>\n",
       "    <tr>\n",
       "      <th>colisão traseira</th>\n",
       "      <td>31469</td>\n",
       "      <td>126998</td>\n",
       "      <td>680025</td>\n",
       "      <td>6118</td>\n",
       "    </tr>\n",
       "    <tr>\n",
       "      <th>colisão lateral</th>\n",
       "      <td>22751</td>\n",
       "      <td>78796</td>\n",
       "      <td>344483</td>\n",
       "      <td>4458</td>\n",
       "    </tr>\n",
       "    <tr>\n",
       "      <th>capotamento</th>\n",
       "      <td>11314</td>\n",
       "      <td>46861</td>\n",
       "      <td>42769</td>\n",
       "      <td>2706</td>\n",
       "    </tr>\n",
       "    <tr>\n",
       "      <th>colisão com objeto fixo</th>\n",
       "      <td>8929</td>\n",
       "      <td>31784</td>\n",
       "      <td>70007</td>\n",
       "      <td>2414</td>\n",
       "    </tr>\n",
       "    <tr>\n",
       "      <th>tombamento</th>\n",
       "      <td>8009</td>\n",
       "      <td>38050</td>\n",
       "      <td>36485</td>\n",
       "      <td>1806</td>\n",
       "    </tr>\n",
       "    <tr>\n",
       "      <th>queda de motocicleta / bicicleta / veículo</th>\n",
       "      <td>12831</td>\n",
       "      <td>41844</td>\n",
       "      <td>11116</td>\n",
       "      <td>1747</td>\n",
       "    </tr>\n",
       "    <tr>\n",
       "      <th>colisão com objeto móvel</th>\n",
       "      <td>4824</td>\n",
       "      <td>8819</td>\n",
       "      <td>24463</td>\n",
       "      <td>1723</td>\n",
       "    </tr>\n",
       "    <tr>\n",
       "      <th>atropelamento de animal</th>\n",
       "      <td>3663</td>\n",
       "      <td>10118</td>\n",
       "      <td>25473</td>\n",
       "      <td>847</td>\n",
       "    </tr>\n",
       "    <tr>\n",
       "      <th>engavetamento</th>\n",
       "      <td>460</td>\n",
       "      <td>3602</td>\n",
       "      <td>14242</td>\n",
       "      <td>100</td>\n",
       "    </tr>\n",
       "    <tr>\n",
       "      <th>danos eventuais</th>\n",
       "      <td>277</td>\n",
       "      <td>970</td>\n",
       "      <td>8398</td>\n",
       "      <td>55</td>\n",
       "    </tr>\n",
       "    <tr>\n",
       "      <th>derramamento de carga</th>\n",
       "      <td>138</td>\n",
       "      <td>463</td>\n",
       "      <td>7449</td>\n",
       "      <td>42</td>\n",
       "    </tr>\n",
       "    <tr>\n",
       "      <th>incêndio</th>\n",
       "      <td>103</td>\n",
       "      <td>471</td>\n",
       "      <td>12472</td>\n",
       "      <td>33</td>\n",
       "    </tr>\n",
       "  </tbody>\n",
       "</table>\n",
       "</div>"
      ],
      "text/plain": [
       "estado_fisico                               ferido grave  ferido leve   ileso  \\\n",
       "tipo_acidente                                                                   \n",
       "colisão frontal                                    36973        52854   74304   \n",
       "atropelamento de pedestre                          17279        19284   39957   \n",
       "saída de pista                                     27267       110208  155079   \n",
       "colisão transversal                                35025        90962  206816   \n",
       "colisão traseira                                   31469       126998  680025   \n",
       "colisão lateral                                    22751        78796  344483   \n",
       "capotamento                                        11314        46861   42769   \n",
       "colisão com objeto fixo                             8929        31784   70007   \n",
       "tombamento                                          8009        38050   36485   \n",
       "queda de motocicleta / bicicleta / veículo         12831        41844   11116   \n",
       "colisão com objeto móvel                            4824         8819   24463   \n",
       "atropelamento de animal                             3663        10118   25473   \n",
       "engavetamento                                        460         3602   14242   \n",
       "danos eventuais                                      277          970    8398   \n",
       "derramamento de carga                                138          463    7449   \n",
       "incêndio                                             103          471   12472   \n",
       "\n",
       "estado_fisico                               óbito  \n",
       "tipo_acidente                                      \n",
       "colisão frontal                             21341  \n",
       "atropelamento de pedestre                   10914  \n",
       "saída de pista                               7347  \n",
       "colisão transversal                          6142  \n",
       "colisão traseira                             6118  \n",
       "colisão lateral                              4458  \n",
       "capotamento                                  2706  \n",
       "colisão com objeto fixo                      2414  \n",
       "tombamento                                   1806  \n",
       "queda de motocicleta / bicicleta / veículo   1747  \n",
       "colisão com objeto móvel                     1723  \n",
       "atropelamento de animal                       847  \n",
       "engavetamento                                 100  \n",
       "danos eventuais                                55  \n",
       "derramamento de carga                          42  \n",
       "incêndio                                       33  "
      ]
     },
     "execution_count": 14,
     "metadata": {},
     "output_type": "execute_result"
    }
   ],
   "source": [
    "grouped = df.groupby(['tipo_acidente', 'estado_fisico']).size().unstack()\n",
    "grouped = grouped.sort_values(['óbito'], ascending=[False])\n",
    "grouped"
   ]
  },
  {
   "cell_type": "markdown",
   "metadata": {},
   "source": [
    "#### Quantidade de vítimas acidentadas por causas de acidentes"
   ]
  },
  {
   "cell_type": "code",
   "execution_count": 15,
   "metadata": {},
   "outputs": [
    {
     "data": {
      "image/png": "[encoded data removed]",
      "text/plain": [
       "<Figure size 1080x576 with 1 Axes>"
      ]
     },
     "metadata": {
      "needs_background": "light"
     },
     "output_type": "display_data"
    }
   ],
   "source": [
    "plt.figure(figsize=(15,8))\n",
    "df['causa_acidente'].value_counts(ascending=True).plot(kind='barh');"
   ]
  },
  {
   "cell_type": "code",
   "execution_count": 16,
   "metadata": {},
   "outputs": [
    {
     "data": {
      "text/html": [
       "<div>\n",
       "<style scoped>\n",
       "    .dataframe tbody tr th:only-of-type {\n",
       "        vertical-align: middle;\n",
       "    }\n",
       "\n",
       "    .dataframe tbody tr th {\n",
       "        vertical-align: top;\n",
       "    }\n",
       "\n",
       "    .dataframe thead th {\n",
       "        text-align: right;\n",
       "    }\n",
       "</style>\n",
       "<table border=\"1\" class=\"dataframe\">\n",
       "  <thead>\n",
       "    <tr style=\"text-align: right;\">\n",
       "      <th>estado_fisico</th>\n",
       "      <th>ferido grave</th>\n",
       "      <th>ferido leve</th>\n",
       "      <th>ileso</th>\n",
       "      <th>óbito</th>\n",
       "    </tr>\n",
       "    <tr>\n",
       "      <th>causa_acidente</th>\n",
       "      <th></th>\n",
       "      <th></th>\n",
       "      <th></th>\n",
       "      <th></th>\n",
       "    </tr>\n",
       "  </thead>\n",
       "  <tbody>\n",
       "    <tr>\n",
       "      <th>outras</th>\n",
       "      <td>43782</td>\n",
       "      <td>112090</td>\n",
       "      <td>312446</td>\n",
       "      <td>17927</td>\n",
       "    </tr>\n",
       "    <tr>\n",
       "      <th>falta de atenção</th>\n",
       "      <td>65964</td>\n",
       "      <td>211967</td>\n",
       "      <td>649945</td>\n",
       "      <td>14186</td>\n",
       "    </tr>\n",
       "    <tr>\n",
       "      <th>velocidade incompatível</th>\n",
       "      <td>25003</td>\n",
       "      <td>76497</td>\n",
       "      <td>127319</td>\n",
       "      <td>9312</td>\n",
       "    </tr>\n",
       "    <tr>\n",
       "      <th>ultrapassagem indevida</th>\n",
       "      <td>11081</td>\n",
       "      <td>21079</td>\n",
       "      <td>43496</td>\n",
       "      <td>5540</td>\n",
       "    </tr>\n",
       "    <tr>\n",
       "      <th>desobediência às normas de trânsito pelo condutor</th>\n",
       "      <td>20141</td>\n",
       "      <td>48786</td>\n",
       "      <td>105766</td>\n",
       "      <td>4960</td>\n",
       "    </tr>\n",
       "  </tbody>\n",
       "</table>\n",
       "</div>"
      ],
      "text/plain": [
       "estado_fisico                                      ferido grave  ferido leve  \\\n",
       "causa_acidente                                                                 \n",
       "outras                                                    43782       112090   \n",
       "falta de atenção                                          65964       211967   \n",
       "velocidade incompatível                                   25003        76497   \n",
       "ultrapassagem indevida                                    11081        21079   \n",
       "desobediência às normas de trânsito pelo condutor         20141        48786   \n",
       "\n",
       "estado_fisico                                       ileso  óbito  \n",
       "causa_acidente                                                    \n",
       "outras                                             312446  17927  \n",
       "falta de atenção                                   649945  14186  \n",
       "velocidade incompatível                            127319   9312  \n",
       "ultrapassagem indevida                              43496   5540  \n",
       "desobediência às normas de trânsito pelo condutor  105766   4960  "
      ]
     },
     "execution_count": 16,
     "metadata": {},
     "output_type": "execute_result"
    }
   ],
   "source": [
    "grouped = df.groupby(['causa_acidente', 'estado_fisico']).size().unstack()\n",
    "grouped = grouped.sort_values(['óbito'], ascending=[False])\n",
    "grouped.head()"
   ]
  },
  {
   "cell_type": "markdown",
   "metadata": {},
   "source": [
    "#### Quantidade de vítimas acidentadas por faixa etária"
   ]
  },
  {
   "cell_type": "code",
   "execution_count": 17,
   "metadata": {},
   "outputs": [
    {
     "data": {
      "text/plain": [
       "Text(0, 0.5, 'Quantidade de vítimas')"
      ]
     },
     "execution_count": 17,
     "metadata": {},
     "output_type": "execute_result"
    },
    {
     "data": {
      "image/png": "[encoded data removed]",
      "text/plain": [
       "<Figure size 864x288 with 1 Axes>"
      ]
     },
     "metadata": {
      "needs_background": "light"
     },
     "output_type": "display_data"
    }
   ],
   "source": [
    "acidentes_por_faixa = df.faixa_etaria.value_counts()\n",
    "\n",
    "plt.figure(figsize=(12,4))\n",
    "plt.bar(np.arange(10), acidentes_por_faixa.sort_index())\n",
    "ticks = plt.xticks(np.arange(10), ['ignorada', '0-4 anos', '5-14 anos', '15-24 anos', '24-34 anos', '35-44 anos', '45-54 anos', '55-64 anos', '65-74 anos', '+75 anos'])\n",
    "plt.ylabel('Quantidade de vítimas')"
   ]
  },
  {
   "cell_type": "code",
   "execution_count": 18,
   "metadata": {},
   "outputs": [
    {
     "data": {
      "text/html": [
       "<div>\n",
       "<style scoped>\n",
       "    .dataframe tbody tr th:only-of-type {\n",
       "        vertical-align: middle;\n",
       "    }\n",
       "\n",
       "    .dataframe tbody tr th {\n",
       "        vertical-align: top;\n",
       "    }\n",
       "\n",
       "    .dataframe thead th {\n",
       "        text-align: right;\n",
       "    }\n",
       "</style>\n",
       "<table border=\"1\" class=\"dataframe\">\n",
       "  <thead>\n",
       "    <tr style=\"text-align: right;\">\n",
       "      <th>estado_fisico</th>\n",
       "      <th>ferido grave</th>\n",
       "      <th>ferido leve</th>\n",
       "      <th>ileso</th>\n",
       "      <th>óbito</th>\n",
       "    </tr>\n",
       "    <tr>\n",
       "      <th>faixa_etaria</th>\n",
       "      <th></th>\n",
       "      <th></th>\n",
       "      <th></th>\n",
       "      <th></th>\n",
       "    </tr>\n",
       "  </thead>\n",
       "  <tbody>\n",
       "    <tr>\n",
       "      <th>[25-34]</th>\n",
       "      <td>54087</td>\n",
       "      <td>167117</td>\n",
       "      <td>444402</td>\n",
       "      <td>14584</td>\n",
       "    </tr>\n",
       "    <tr>\n",
       "      <th>[35-44]</th>\n",
       "      <td>40034</td>\n",
       "      <td>118600</td>\n",
       "      <td>386578</td>\n",
       "      <td>12931</td>\n",
       "    </tr>\n",
       "    <tr>\n",
       "      <th>[45-54]</th>\n",
       "      <td>27375</td>\n",
       "      <td>76955</td>\n",
       "      <td>269692</td>\n",
       "      <td>10196</td>\n",
       "    </tr>\n",
       "    <tr>\n",
       "      <th>[15-24]</th>\n",
       "      <td>42060</td>\n",
       "      <td>127021</td>\n",
       "      <td>161815</td>\n",
       "      <td>9900</td>\n",
       "    </tr>\n",
       "    <tr>\n",
       "      <th>[55-64]</th>\n",
       "      <td>15309</td>\n",
       "      <td>43762</td>\n",
       "      <td>149905</td>\n",
       "      <td>6743</td>\n",
       "    </tr>\n",
       "  </tbody>\n",
       "</table>\n",
       "</div>"
      ],
      "text/plain": [
       "estado_fisico  ferido grave  ferido leve   ileso  óbito\n",
       "faixa_etaria                                           \n",
       "[25-34]               54087       167117  444402  14584\n",
       "[35-44]               40034       118600  386578  12931\n",
       "[45-54]               27375        76955  269692  10196\n",
       "[15-24]               42060       127021  161815   9900\n",
       "[55-64]               15309        43762  149905   6743"
      ]
     },
     "execution_count": 18,
     "metadata": {},
     "output_type": "execute_result"
    }
   ],
   "source": [
    "grouped = df.groupby(['faixa_etaria', 'estado_fisico']).size().unstack()\n",
    "grouped = grouped.sort_values(['óbito'], ascending=[False])\n",
    "grouped.head()"
   ]
  },
  {
   "cell_type": "markdown",
   "metadata": {},
   "source": [
    "#### Quantidade de vítimas acidentadas por br"
   ]
  },
  {
   "cell_type": "code",
   "execution_count": 19,
   "metadata": {},
   "outputs": [
    {
     "data": {
      "image/png": "[encoded data removed]",
      "text/plain": [
       "<Figure size 1080x2160 with 1 Axes>"
      ]
     },
     "metadata": {
      "needs_background": "light"
     },
     "output_type": "display_data"
    }
   ],
   "source": [
    "plt.figure(figsize=(15,30))\n",
    "df['br'].value_counts(ascending=True).plot(kind='barh');"
   ]
  },
  {
   "cell_type": "markdown",
   "metadata": {},
   "source": [
    "#### Quantidade de vítimas acidentadas por condição meteorológica"
   ]
  },
  {
   "cell_type": "code",
   "execution_count": 20,
   "metadata": {},
   "outputs": [
    {
     "data": {
      "image/png": "[encoded data removed]",
      "text/plain": [
       "<Figure size 1080x576 with 1 Axes>"
      ]
     },
     "metadata": {
      "needs_background": "light"
     },
     "output_type": "display_data"
    }
   ],
   "source": [
    "plt.figure(figsize=(15,8))\n",
    "df['condicao_metereologica'].value_counts(ascending=True).plot(kind='barh');"
   ]
  },
  {
   "cell_type": "markdown",
   "metadata": {},
   "source": [
    "#### Quantidade de vítimas acidentadas por sexo"
   ]
  },
  {
   "cell_type": "code",
   "execution_count": 21,
   "metadata": {},
   "outputs": [
    {
     "data": {
      "text/plain": [
       "Text(0, 0.5, 'Quantidade de vítimas')"
      ]
     },
     "execution_count": 21,
     "metadata": {},
     "output_type": "execute_result"
    },
    {
     "data": {
      "image/png": "[encoded data removed]",
      "text/plain": [
       "<Figure size 864x288 with 1 Axes>"
      ]
     },
     "metadata": {
      "needs_background": "light"
     },
     "output_type": "display_data"
    }
   ],
   "source": [
    "acidentes_por_sexo = df.sexo.value_counts()\n",
    "\n",
    "plt.figure(figsize=(12,4))\n",
    "plt.bar(np.arange(3), acidentes_por_sexo.sort_index())\n",
    "ticks = plt.xticks(np.arange(3), ['Feminino', 'Inválido', 'Masculino'])\n",
    "plt.ylabel('Quantidade de vítimas')"
   ]
  },
  {
   "cell_type": "code",
   "execution_count": 22,
   "metadata": {},
   "outputs": [
    {
     "data": {
      "text/html": [
       "<div>\n",
       "<style scoped>\n",
       "    .dataframe tbody tr th:only-of-type {\n",
       "        vertical-align: middle;\n",
       "    }\n",
       "\n",
       "    .dataframe tbody tr th {\n",
       "        vertical-align: top;\n",
       "    }\n",
       "\n",
       "    .dataframe thead th {\n",
       "        text-align: right;\n",
       "    }\n",
       "</style>\n",
       "<table border=\"1\" class=\"dataframe\">\n",
       "  <thead>\n",
       "    <tr style=\"text-align: right;\">\n",
       "      <th>ano</th>\n",
       "      <th>2011</th>\n",
       "      <th>2012</th>\n",
       "      <th>2013</th>\n",
       "      <th>2014</th>\n",
       "      <th>2015</th>\n",
       "      <th>2016</th>\n",
       "      <th>2017</th>\n",
       "      <th>2018</th>\n",
       "      <th>2019</th>\n",
       "      <th>2020</th>\n",
       "    </tr>\n",
       "    <tr>\n",
       "      <th>sexo</th>\n",
       "      <th></th>\n",
       "      <th></th>\n",
       "      <th></th>\n",
       "      <th></th>\n",
       "      <th></th>\n",
       "      <th></th>\n",
       "      <th></th>\n",
       "      <th></th>\n",
       "      <th></th>\n",
       "      <th></th>\n",
       "    </tr>\n",
       "  </thead>\n",
       "  <tbody>\n",
       "    <tr>\n",
       "      <th>feminino</th>\n",
       "      <td>65919</td>\n",
       "      <td>64666</td>\n",
       "      <td>68769</td>\n",
       "      <td>63788</td>\n",
       "      <td>51727</td>\n",
       "      <td>45842</td>\n",
       "      <td>44057</td>\n",
       "      <td>37212</td>\n",
       "      <td>37155</td>\n",
       "      <td>21587</td>\n",
       "    </tr>\n",
       "    <tr>\n",
       "      <th>inválido</th>\n",
       "      <td>15158</td>\n",
       "      <td>14283</td>\n",
       "      <td>15177</td>\n",
       "      <td>14099</td>\n",
       "      <td>10703</td>\n",
       "      <td>8849</td>\n",
       "      <td>13190</td>\n",
       "      <td>10290</td>\n",
       "      <td>10336</td>\n",
       "      <td>7564</td>\n",
       "    </tr>\n",
       "    <tr>\n",
       "      <th>masculino</th>\n",
       "      <td>331205</td>\n",
       "      <td>317962</td>\n",
       "      <td>321874</td>\n",
       "      <td>290642</td>\n",
       "      <td>206622</td>\n",
       "      <td>161571</td>\n",
       "      <td>147169</td>\n",
       "      <td>117299</td>\n",
       "      <td>114781</td>\n",
       "      <td>75231</td>\n",
       "    </tr>\n",
       "  </tbody>\n",
       "</table>\n",
       "</div>"
      ],
      "text/plain": [
       "ano          2011    2012    2013    2014    2015    2016    2017    2018  \\\n",
       "sexo                                                                        \n",
       "feminino    65919   64666   68769   63788   51727   45842   44057   37212   \n",
       "inválido    15158   14283   15177   14099   10703    8849   13190   10290   \n",
       "masculino  331205  317962  321874  290642  206622  161571  147169  117299   \n",
       "\n",
       "ano          2019   2020  \n",
       "sexo                      \n",
       "feminino    37155  21587  \n",
       "inválido    10336   7564  \n",
       "masculino  114781  75231  "
      ]
     },
     "execution_count": 22,
     "metadata": {},
     "output_type": "execute_result"
    }
   ],
   "source": [
    "grouped = df.groupby(['sexo', 'ano']).size().unstack()\n",
    "grouped"
   ]
  },
  {
   "cell_type": "markdown",
   "metadata": {},
   "source": [
    "#### Quantidade de vítimas acidentadas por tipo de veículo"
   ]
  },
  {
   "cell_type": "code",
   "execution_count": 23,
   "metadata": {},
   "outputs": [
    {
     "data": {
      "image/png": "[encoded data removed]",
      "text/plain": [
       "<Figure size 1080x576 with 1 Axes>"
      ]
     },
     "metadata": {
      "needs_background": "light"
     },
     "output_type": "display_data"
    }
   ],
   "source": [
    "plt.figure(figsize=(15,8))\n",
    "df['tipo_veiculo'].value_counts(ascending=True).plot(kind='barh');"
   ]
  },
  {
   "cell_type": "markdown",
   "metadata": {},
   "source": [
    "#### Quantidade de vítimas acidentadas por tipo envolvido"
   ]
  },
  {
   "cell_type": "code",
   "execution_count": 24,
   "metadata": {},
   "outputs": [
    {
     "data": {
      "image/png": "[encoded data removed]",
      "text/plain": [
       "<Figure size 720x288 with 1 Axes>"
      ]
     },
     "metadata": {
      "needs_background": "light"
     },
     "output_type": "display_data"
    }
   ],
   "source": [
    "plt.figure(figsize=(10,4))\n",
    "df['tipo_envolvido'].value_counts(ascending=True).plot(kind='barh');"
   ]
  },
  {
   "cell_type": "code",
   "execution_count": 25,
   "metadata": {},
   "outputs": [
    {
     "data": {
      "text/html": [
       "<div>\n",
       "<style scoped>\n",
       "    .dataframe tbody tr th:only-of-type {\n",
       "        vertical-align: middle;\n",
       "    }\n",
       "\n",
       "    .dataframe tbody tr th {\n",
       "        vertical-align: top;\n",
       "    }\n",
       "\n",
       "    .dataframe thead th {\n",
       "        text-align: right;\n",
       "    }\n",
       "</style>\n",
       "<table border=\"1\" class=\"dataframe\">\n",
       "  <thead>\n",
       "    <tr style=\"text-align: right;\">\n",
       "      <th>estado_fisico</th>\n",
       "      <th>ferido grave</th>\n",
       "      <th>ferido leve</th>\n",
       "      <th>ileso</th>\n",
       "      <th>óbito</th>\n",
       "    </tr>\n",
       "    <tr>\n",
       "      <th>tipo_envolvido</th>\n",
       "      <th></th>\n",
       "      <th></th>\n",
       "      <th></th>\n",
       "      <th></th>\n",
       "    </tr>\n",
       "  </thead>\n",
       "  <tbody>\n",
       "    <tr>\n",
       "      <th>Condutor</th>\n",
       "      <td>132469.0</td>\n",
       "      <td>386667.0</td>\n",
       "      <td>1555832.0</td>\n",
       "      <td>39005.0</td>\n",
       "    </tr>\n",
       "    <tr>\n",
       "      <th>Passageiro</th>\n",
       "      <td>72770.0</td>\n",
       "      <td>260929.0</td>\n",
       "      <td>183106.0</td>\n",
       "      <td>17895.0</td>\n",
       "    </tr>\n",
       "    <tr>\n",
       "      <th>Pedestre</th>\n",
       "      <td>15931.0</td>\n",
       "      <td>14296.0</td>\n",
       "      <td>1683.0</td>\n",
       "      <td>10828.0</td>\n",
       "    </tr>\n",
       "    <tr>\n",
       "      <th>Cavaleiro</th>\n",
       "      <td>142.0</td>\n",
       "      <td>192.0</td>\n",
       "      <td>158.0</td>\n",
       "      <td>64.0</td>\n",
       "    </tr>\n",
       "    <tr>\n",
       "      <th>Testemunha</th>\n",
       "      <td>NaN</td>\n",
       "      <td>NaN</td>\n",
       "      <td>12759.0</td>\n",
       "      <td>1.0</td>\n",
       "    </tr>\n",
       "  </tbody>\n",
       "</table>\n",
       "</div>"
      ],
      "text/plain": [
       "estado_fisico   ferido grave  ferido leve      ileso    óbito\n",
       "tipo_envolvido                                               \n",
       "Condutor            132469.0     386667.0  1555832.0  39005.0\n",
       "Passageiro           72770.0     260929.0   183106.0  17895.0\n",
       "Pedestre             15931.0      14296.0     1683.0  10828.0\n",
       "Cavaleiro              142.0        192.0      158.0     64.0\n",
       "Testemunha               NaN          NaN    12759.0      1.0"
      ]
     },
     "execution_count": 25,
     "metadata": {},
     "output_type": "execute_result"
    }
   ],
   "source": [
    "grouped = df.groupby(['tipo_envolvido', 'estado_fisico']).size().unstack()\n",
    "grouped = grouped.sort_values(['óbito'], ascending=[False])\n",
    "grouped.head()"
   ]
  }
 ],
 "metadata": {
  "kernelspec": {
   "display_name": "Python 3",
   "language": "python",
   "name": "python3"
  },
  "language_info": {
   "codemirror_mode": {
    "name": "ipython",
    "version": 3
   },
   "file_extension": ".py",
   "mimetype": "text/x-python",
   "name": "python",
   "nbconvert_exporter": "python",
   "pygments_lexer": "ipython3",
   "version": "3.7.3"
  }
 },
 "nbformat": 4,
 "nbformat_minor": 2
}
