{
 "cells": [
  {
   "cell_type": "markdown",
   "metadata": {},
   "source": [
    "# Classificação\n",
    "Após a criação dataset, iremos aplicar alguns algoritmos de classificação sobre os dados, com o objetivo de identificar quais fatores indicariam o estado físico da pessoa acidentada. Para isso, iremos utilizar o dataset tratado no notebook: 1 - Coleta e Processamento-Tratamento dos Dados."
   ]
  },
  {
   "cell_type": "code",
   "execution_count": 1,
   "metadata": {},
   "outputs": [],
   "source": [
    "import numpy as np\n",
    "import pandas as pd\n",
    "import warnings\n",
    "import matplotlib.pyplot as plt\n",
    "import seaborn as sns\n",
    "from sklearn.tree import DecisionTreeClassifier\n",
    "from sklearn.model_selection import train_test_split, GridSearchCV\n",
    "from sklearn.metrics import accuracy_score, classification_report, confusion_matrix\n",
    "from sklearn.preprocessing import LabelEncoder\n",
    "from sklearn.dummy import DummyClassifier\n",
    "from sklearn.discriminant_analysis import LinearDiscriminantAnalysis\n",
    "from sklearn import tree\n",
    "from sklearn.naive_bayes import GaussianNB\n",
    "warnings.filterwarnings(\"ignore\")"
   ]
  },
  {
   "cell_type": "markdown",
   "metadata": {},
   "source": [
    "* Importação do dataset gerado no Notebook 1 – Coleta e Processamento-Tratamento dos Dados \n",
    "\n",
    "O dataset dadostratados.csv deve permanecer na pasta: C:\\TCC\\DATASETS"
   ]
  },
  {
   "cell_type": "code",
   "execution_count": 2,
   "metadata": {},
   "outputs": [
    {
     "data": {
      "text/html": [
       "<div>\n",
       "<style scoped>\n",
       "    .dataframe tbody tr th:only-of-type {\n",
       "        vertical-align: middle;\n",
       "    }\n",
       "\n",
       "    .dataframe tbody tr th {\n",
       "        vertical-align: top;\n",
       "    }\n",
       "\n",
       "    .dataframe thead th {\n",
       "        text-align: right;\n",
       "    }\n",
       "</style>\n",
       "<table border=\"1\" class=\"dataframe\">\n",
       "  <thead>\n",
       "    <tr style=\"text-align: right;\">\n",
       "      <th></th>\n",
       "      <th>br</th>\n",
       "      <th>causa_acidente</th>\n",
       "      <th>condicao_metereologica</th>\n",
       "      <th>dia_semana</th>\n",
       "      <th>fase_dia</th>\n",
       "      <th>pessoas</th>\n",
       "      <th>sentido_via</th>\n",
       "      <th>tipo_acidente</th>\n",
       "      <th>tipo_pista</th>\n",
       "      <th>tracado_via</th>\n",
       "      <th>...</th>\n",
       "      <th>veiculos</th>\n",
       "      <th>tipo_veiculo</th>\n",
       "      <th>ano_fabricacao_veiculo</th>\n",
       "      <th>tipo_envolvido</th>\n",
       "      <th>estado_fisico</th>\n",
       "      <th>sexo</th>\n",
       "      <th>ano</th>\n",
       "      <th>mes</th>\n",
       "      <th>hora</th>\n",
       "      <th>faixa_etaria</th>\n",
       "    </tr>\n",
       "  </thead>\n",
       "  <tbody>\n",
       "    <tr>\n",
       "      <th>0</th>\n",
       "      <td>101</td>\n",
       "      <td>outras</td>\n",
       "      <td>ceu claro</td>\n",
       "      <td>segunda</td>\n",
       "      <td>pleno dia</td>\n",
       "      <td>3</td>\n",
       "      <td>Crescente</td>\n",
       "      <td>colisão transversal</td>\n",
       "      <td>Dupla</td>\n",
       "      <td>Reta</td>\n",
       "      <td>...</td>\n",
       "      <td>2</td>\n",
       "      <td>caminhão</td>\n",
       "      <td>1997</td>\n",
       "      <td>Condutor</td>\n",
       "      <td>ileso</td>\n",
       "      <td>masculino</td>\n",
       "      <td>2011</td>\n",
       "      <td>10</td>\n",
       "      <td>11</td>\n",
       "      <td>[15-24]</td>\n",
       "    </tr>\n",
       "    <tr>\n",
       "      <th>1</th>\n",
       "      <td>101</td>\n",
       "      <td>outras</td>\n",
       "      <td>ceu claro</td>\n",
       "      <td>segunda</td>\n",
       "      <td>pleno dia</td>\n",
       "      <td>3</td>\n",
       "      <td>Crescente</td>\n",
       "      <td>colisão transversal</td>\n",
       "      <td>Dupla</td>\n",
       "      <td>Reta</td>\n",
       "      <td>...</td>\n",
       "      <td>2</td>\n",
       "      <td>motocicleta</td>\n",
       "      <td>2008</td>\n",
       "      <td>Condutor</td>\n",
       "      <td>ferido grave</td>\n",
       "      <td>masculino</td>\n",
       "      <td>2011</td>\n",
       "      <td>10</td>\n",
       "      <td>11</td>\n",
       "      <td>[25-34]</td>\n",
       "    </tr>\n",
       "    <tr>\n",
       "      <th>2</th>\n",
       "      <td>101</td>\n",
       "      <td>outras</td>\n",
       "      <td>ceu claro</td>\n",
       "      <td>segunda</td>\n",
       "      <td>pleno dia</td>\n",
       "      <td>3</td>\n",
       "      <td>Crescente</td>\n",
       "      <td>colisão transversal</td>\n",
       "      <td>Dupla</td>\n",
       "      <td>Reta</td>\n",
       "      <td>...</td>\n",
       "      <td>2</td>\n",
       "      <td>motocicleta</td>\n",
       "      <td>2008</td>\n",
       "      <td>Passageiro</td>\n",
       "      <td>ferido grave</td>\n",
       "      <td>feminino</td>\n",
       "      <td>2011</td>\n",
       "      <td>10</td>\n",
       "      <td>11</td>\n",
       "      <td>Ignorada</td>\n",
       "    </tr>\n",
       "    <tr>\n",
       "      <th>3</th>\n",
       "      <td>381</td>\n",
       "      <td>outras</td>\n",
       "      <td>sol</td>\n",
       "      <td>sexta</td>\n",
       "      <td>amanhecer</td>\n",
       "      <td>1</td>\n",
       "      <td>Decrescente</td>\n",
       "      <td>saída de pista</td>\n",
       "      <td>Dupla</td>\n",
       "      <td>Reta</td>\n",
       "      <td>...</td>\n",
       "      <td>1</td>\n",
       "      <td>caminhão-trator</td>\n",
       "      <td>1997</td>\n",
       "      <td>Condutor</td>\n",
       "      <td>ileso</td>\n",
       "      <td>masculino</td>\n",
       "      <td>2011</td>\n",
       "      <td>10</td>\n",
       "      <td>6</td>\n",
       "      <td>[55-64]</td>\n",
       "    </tr>\n",
       "    <tr>\n",
       "      <th>4</th>\n",
       "      <td>407</td>\n",
       "      <td>falta de atenção</td>\n",
       "      <td>ceu claro</td>\n",
       "      <td>sexta</td>\n",
       "      <td>pleno dia</td>\n",
       "      <td>3</td>\n",
       "      <td>Crescente</td>\n",
       "      <td>colisão traseira</td>\n",
       "      <td>Simples</td>\n",
       "      <td>Reta</td>\n",
       "      <td>...</td>\n",
       "      <td>3</td>\n",
       "      <td>automóvel</td>\n",
       "      <td>2002</td>\n",
       "      <td>Condutor</td>\n",
       "      <td>ileso</td>\n",
       "      <td>masculino</td>\n",
       "      <td>2011</td>\n",
       "      <td>10</td>\n",
       "      <td>16</td>\n",
       "      <td>[25-34]</td>\n",
       "    </tr>\n",
       "  </tbody>\n",
       "</table>\n",
       "<p>5 rows × 22 columns</p>\n",
       "</div>"
      ],
      "text/plain": [
       "    br    causa_acidente condicao_metereologica dia_semana   fase_dia  \\\n",
       "0  101            outras              ceu claro    segunda  pleno dia   \n",
       "1  101            outras              ceu claro    segunda  pleno dia   \n",
       "2  101            outras              ceu claro    segunda  pleno dia   \n",
       "3  381            outras                    sol      sexta  amanhecer   \n",
       "4  407  falta de atenção              ceu claro      sexta  pleno dia   \n",
       "\n",
       "   pessoas  sentido_via        tipo_acidente tipo_pista tracado_via  ...  \\\n",
       "0        3    Crescente  colisão transversal      Dupla        Reta  ...   \n",
       "1        3    Crescente  colisão transversal      Dupla        Reta  ...   \n",
       "2        3    Crescente  colisão transversal      Dupla        Reta  ...   \n",
       "3        1  Decrescente       saída de pista      Dupla        Reta  ...   \n",
       "4        3    Crescente     colisão traseira    Simples        Reta  ...   \n",
       "\n",
       "  veiculos     tipo_veiculo  ano_fabricacao_veiculo tipo_envolvido  \\\n",
       "0        2         caminhão                    1997       Condutor   \n",
       "1        2      motocicleta                    2008       Condutor   \n",
       "2        2      motocicleta                    2008     Passageiro   \n",
       "3        1  caminhão-trator                    1997       Condutor   \n",
       "4        3        automóvel                    2002       Condutor   \n",
       "\n",
       "   estado_fisico       sexo   ano mes  hora  faixa_etaria  \n",
       "0          ileso  masculino  2011  10    11       [15-24]  \n",
       "1   ferido grave  masculino  2011  10    11       [25-34]  \n",
       "2   ferido grave   feminino  2011  10    11      Ignorada  \n",
       "3          ileso  masculino  2011  10     6       [55-64]  \n",
       "4          ileso  masculino  2011  10    16       [25-34]  \n",
       "\n",
       "[5 rows x 22 columns]"
      ]
     },
     "execution_count": 2,
     "metadata": {},
     "output_type": "execute_result"
    }
   ],
   "source": [
    "#Diretório e leitura do dataset\n",
    "path = r'C:\\TCC\\DATASETS\\dadostratados.csv'\n",
    "#Importação na codificação \"utf-8\"\n",
    "df = pd.read_csv(path, sep = ',', decimal=\",\", encoding = \"utf-8\", index_col=0)\n",
    "#Mostrando as 05 primeiras colunas\n",
    "df.head()"
   ]
  },
  {
   "cell_type": "code",
   "execution_count": 3,
   "metadata": {},
   "outputs": [
    {
     "name": "stdout",
     "output_type": "stream",
     "text": [
      "Index(['br', 'causa_acidente', 'condicao_metereologica', 'dia_semana',\n",
      "       'fase_dia', 'pessoas', 'sentido_via', 'tipo_acidente', 'tipo_pista',\n",
      "       'tracado_via', 'uf', 'uso_solo', 'veiculos', 'tipo_veiculo',\n",
      "       'ano_fabricacao_veiculo', 'tipo_envolvido', 'estado_fisico', 'sexo',\n",
      "       'ano', 'mes', 'hora', 'faixa_etaria'],\n",
      "      dtype='object')\n",
      "(2704727, 22)\n"
     ]
    }
   ],
   "source": [
    "# Relembrando as colunas do Dataset\n",
    "print(df.columns)\n",
    "print(df.shape)"
   ]
  },
  {
   "cell_type": "markdown",
   "metadata": {},
   "source": [
    "* Tratamento no Dataset\n",
    "\n",
    "1) Criação das classes alvos para os algotimos de classificação\n",
    "\n",
    "2) Remoção de colunas desnecessárias\n",
    "\n",
    "3) Uso do LabelEncoder para transformar os tipos objetos para categóricos"
   ]
  },
  {
   "cell_type": "code",
   "execution_count": 4,
   "metadata": {},
   "outputs": [],
   "source": [
    "#Criando a coluna que será utilizando como atributo alvo\n",
    "df.loc[df['estado_fisico'] == 'óbito', 'target'] = 0\n",
    "df.loc[df['estado_fisico'] == 'ferido grave', 'target'] = 1\n",
    "df.loc[df['estado_fisico'] == 'ferido leve', 'target'] = 2\n",
    "df.loc[df['estado_fisico'] == 'ileso', 'target'] = 3\n",
    "df['target'] = df['target'].astype(float).astype(int)"
   ]
  },
  {
   "cell_type": "code",
   "execution_count": 5,
   "metadata": {},
   "outputs": [
    {
     "data": {
      "text/plain": [
       "3    0.648323\n",
       "2    0.244788\n",
       "1    0.081824\n",
       "0    0.025065\n",
       "Name: target, dtype: float64"
      ]
     },
     "execution_count": 5,
     "metadata": {},
     "output_type": "execute_result"
    }
   ],
   "source": [
    "df['target'].value_counts(normalize=True)"
   ]
  },
  {
   "cell_type": "markdown",
   "metadata": {},
   "source": [
    "Com base no estado físico das vítimas acidentadas, tívemos nos últimos dez anos o seguinte: 1.753.538 ilesos (64,8%), 662.084  com ferimentos leves (24,5%), 221.312 com ferimentos graves (8,2%) e 67.793 óbitos (2,5%) nas rodovias federais.\n",
    "\n",
    "Há um desbalanceamento entre a quantidade de ilesos, ferimentos leves, ferimentos graves e óbitos."
   ]
  },
  {
   "cell_type": "code",
   "execution_count": 6,
   "metadata": {},
   "outputs": [],
   "source": [
    "#Removendo as colunas desnecessárias para análise\n",
    "df = df.drop(columns=['ano', 'estado_fisico'])"
   ]
  },
  {
   "cell_type": "code",
   "execution_count": 7,
   "metadata": {},
   "outputs": [
    {
     "name": "stdout",
     "output_type": "stream",
     "text": [
      "<class 'pandas.core.frame.DataFrame'>\n",
      "Int64Index: 2704727 entries, 0 to 2704814\n",
      "Data columns (total 21 columns):\n",
      "br                        int64\n",
      "causa_acidente            object\n",
      "condicao_metereologica    object\n",
      "dia_semana                object\n",
      "fase_dia                  object\n",
      "pessoas                   int64\n",
      "sentido_via               object\n",
      "tipo_acidente             object\n",
      "tipo_pista                object\n",
      "tracado_via               object\n",
      "uf                        object\n",
      "uso_solo                  object\n",
      "veiculos                  int64\n",
      "tipo_veiculo              object\n",
      "ano_fabricacao_veiculo    int64\n",
      "tipo_envolvido            object\n",
      "sexo                      object\n",
      "mes                       int64\n",
      "hora                      int64\n",
      "faixa_etaria              object\n",
      "target                    int32\n",
      "dtypes: int32(1), int64(6), object(14)\n",
      "memory usage: 443.7+ MB\n"
     ]
    }
   ],
   "source": [
    "#Análise do dataframe que será analisado\n",
    "df.info()"
   ]
  },
  {
   "cell_type": "code",
   "execution_count": 8,
   "metadata": {},
   "outputs": [],
   "source": [
    "#Label Encoding para categóricos\n",
    "def df_labelencoder(df):\n",
    "    for column in df.columns:\n",
    "        if df[column].dtype == type(object):\n",
    "            le = LabelEncoder()\n",
    "            df[column] = le.fit_transform(df[column].astype(str))\n",
    "    return df\n",
    "\n",
    "df_final = df_labelencoder(df)"
   ]
  },
  {
   "cell_type": "markdown",
   "metadata": {},
   "source": [
    "#### Classificadores\n",
    "Agora vamos avaliar os classificadores DummyClassifier, GaussianNB, LinearDiscriminantAnalysis e DecisionTreeClassifier"
   ]
  },
  {
   "cell_type": "code",
   "execution_count": 9,
   "metadata": {},
   "outputs": [
    {
     "name": "stdout",
     "output_type": "stream",
     "text": [
      "Divisão dos dados\n",
      "(2163781, 20) (540946, 20)\n",
      "(2163781,) (540946,)\n"
     ]
    }
   ],
   "source": [
    "def test_classifier(clf, X_train, X_test, y_train, y_test, clf_name):\n",
    "    \n",
    "    clf.fit(X_train, y_train)\n",
    "    print(\"---- \" + clf_name + \"----\")\n",
    "    print(\"Acurácia (base de treinamento):\", clf.score(X_train, y_train))\n",
    "       \n",
    "    pred = clf.predict(X_test)\n",
    "    print(\"Acurácia de previsão:\", accuracy_score(y_test, pred))\n",
    "    print(classification_report(y_test, pred))\n",
    "    print(confusion_matrix(y_test, pred))\n",
    "    return clf\n",
    "\n",
    "X_train, X_test, y_train, y_test = train_test_split(df_final.drop('target',axis=1),df_final['target'], test_size=0.2)\n",
    "print(\"Divisão dos dados\")\n",
    "print(X_train.shape,X_test.shape)\n",
    "print(y_train.shape,y_test.shape)"
   ]
  },
  {
   "cell_type": "markdown",
   "metadata": {},
   "source": [
    "#### DummyClassifier\n",
    "Conforme sua documentação técnica, o DummyClassifier \"É um classificador que faz previsões usando regras simples.\"\n",
    "Esse classificador é útil como uma linha de base simples para comparar com outros classificadores (reais).\n",
    "\n",
    "A linha base é comum no processo de criação de modelos pois serve como um ponto de referência para poder estimar com modelos mais robustos a eficiência gerada em cima dessa base. E a base está longe de ser perfeita, é apenas uma das formas de apurar a eficácia do modelo que será escolhido e o quanto ele realmente se distingue."
   ]
  },
  {
   "cell_type": "code",
   "execution_count": 10,
   "metadata": {},
   "outputs": [
    {
     "name": "stdout",
     "output_type": "stream",
     "text": [
      "---- DummyClassifier----\n",
      "Acurácia (base de treinamento): 0.4874582963802714\n",
      "Acurácia de previsão: 0.487714115641857\n",
      "              precision    recall  f1-score   support\n",
      "\n",
      "           0       0.03      0.03      0.03     13546\n",
      "           1       0.08      0.08      0.08     44526\n",
      "           2       0.24      0.25      0.24    132087\n",
      "           3       0.65      0.65      0.65    350787\n",
      "\n",
      "   micro avg       0.49      0.49      0.49    540946\n",
      "   macro avg       0.25      0.25      0.25    540946\n",
      "weighted avg       0.49      0.49      0.49    540946\n",
      "\n",
      "[[   362   1050   3364   8770]\n",
      " [  1132   3591  11095  28708]\n",
      " [  3310  10790  32461  85526]\n",
      " [  8733  28325  86316 227413]]\n"
     ]
    },
    {
     "data": {
      "text/plain": [
       "DummyClassifier(constant=None, random_state=0, strategy='stratified')"
      ]
     },
     "execution_count": 10,
     "metadata": {},
     "output_type": "execute_result"
    }
   ],
   "source": [
    "dummy = DummyClassifier(random_state=0)\n",
    "test_classifier(dummy, X_train, X_test, y_train, y_test, \"DummyClassifier\")"
   ]
  },
  {
   "cell_type": "markdown",
   "metadata": {},
   "source": [
    "#### GaussianNB"
   ]
  },
  {
   "cell_type": "code",
   "execution_count": 11,
   "metadata": {},
   "outputs": [
    {
     "name": "stdout",
     "output_type": "stream",
     "text": [
      "---- GaussianNB----\n",
      "Acurácia (base de treinamento): 0.6490837104124678\n",
      "Acurácia de previsão: 0.6493014090130993\n",
      "              precision    recall  f1-score   support\n",
      "\n",
      "           0       0.12      0.17      0.14     13546\n",
      "           1       0.10      0.03      0.05     44526\n",
      "           2       0.48      0.38      0.42    132087\n",
      "           3       0.74      0.85      0.79    350787\n",
      "\n",
      "   micro avg       0.65      0.65      0.65    540946\n",
      "   macro avg       0.36      0.36      0.35    540946\n",
      "weighted avg       0.61      0.65      0.62    540946\n",
      "\n",
      "[[  2252    339   3626   7329]\n",
      " [  3631   1419  14532  24944]\n",
      " [  3664   4596  50115  73712]\n",
      " [  9158   8454  35724 297451]]\n"
     ]
    }
   ],
   "source": [
    "gnb = GaussianNB()\n",
    "gnb = test_classifier(gnb, X_train, X_test, y_train, y_test, \"GaussianNB\")"
   ]
  },
  {
   "cell_type": "markdown",
   "metadata": {},
   "source": [
    "#### LinearDiscriminantAnalysis"
   ]
  },
  {
   "cell_type": "code",
   "execution_count": 12,
   "metadata": {},
   "outputs": [
    {
     "name": "stdout",
     "output_type": "stream",
     "text": [
      "---- LinearDiscriminantAnalysis----\n",
      "Acurácia (base de treinamento): 0.6709805659630064\n",
      "Acurácia de previsão: 0.6714607373009506\n",
      "              precision    recall  f1-score   support\n",
      "\n",
      "           0       0.26      0.13      0.17     13546\n",
      "           1       0.26      0.01      0.01     44526\n",
      "           2       0.49      0.26      0.34    132087\n",
      "           3       0.70      0.93      0.80    350787\n",
      "\n",
      "   micro avg       0.67      0.67      0.67    540946\n",
      "   macro avg       0.43      0.33      0.33    540946\n",
      "weighted avg       0.61      0.67      0.61    540946\n",
      "\n",
      "[[  1730     93   2377   9346]\n",
      " [  2399    246   9797  32084]\n",
      " [  2043    352  33873  95819]\n",
      " [   516    246  22650 327375]]\n"
     ]
    },
    {
     "data": {
      "text/plain": [
       "LinearDiscriminantAnalysis(n_components=None, priors=None, shrinkage=None,\n",
       "              solver='svd', store_covariance=False, tol=0.0001)"
      ]
     },
     "execution_count": 12,
     "metadata": {},
     "output_type": "execute_result"
    }
   ],
   "source": [
    "lda = LinearDiscriminantAnalysis()\n",
    "test_classifier(lda, X_train, X_test, y_train, y_test, \"LinearDiscriminantAnalysis\")"
   ]
  },
  {
   "cell_type": "markdown",
   "metadata": {},
   "source": [
    "#### DecisionTreeClassifier"
   ]
  },
  {
   "cell_type": "code",
   "execution_count": 13,
   "metadata": {},
   "outputs": [
    {
     "name": "stdout",
     "output_type": "stream",
     "text": [
      "---- DecisionTreeClassifier----\n",
      "Acurácia (base de treinamento): 0.9948774852907942\n",
      "Acurácia de previsão: 0.6859390770982686\n",
      "              precision    recall  f1-score   support\n",
      "\n",
      "           0       0.19      0.21      0.20     13546\n",
      "           1       0.25      0.27      0.26     44526\n",
      "           2       0.49      0.50      0.50    132087\n",
      "           3       0.84      0.83      0.83    350787\n",
      "\n",
      "   micro avg       0.69      0.69      0.69    540946\n",
      "   macro avg       0.45      0.45      0.45    540946\n",
      "weighted avg       0.69      0.69      0.69    540946\n",
      "\n",
      "[[  2832   3512   4215   2987]\n",
      " [  3699  12052  18377  10398]\n",
      " [  4576  19801  66172  41538]\n",
      " [  3437  11932  45418 290000]]\n"
     ]
    },
    {
     "data": {
      "text/plain": [
       "DecisionTreeClassifier(class_weight=None, criterion='gini', max_depth=None,\n",
       "            max_features=None, max_leaf_nodes=None,\n",
       "            min_impurity_decrease=0.0, min_impurity_split=None,\n",
       "            min_samples_leaf=1, min_samples_split=2,\n",
       "            min_weight_fraction_leaf=0.0, presort=False, random_state=0,\n",
       "            splitter='best')"
      ]
     },
     "execution_count": 13,
     "metadata": {},
     "output_type": "execute_result"
    }
   ],
   "source": [
    "dtc = DecisionTreeClassifier(random_state=0)\n",
    "test_classifier(dtc, X_train, X_test, y_train, y_test, \"DecisionTreeClassifier\")"
   ]
  },
  {
   "cell_type": "code",
   "execution_count": 14,
   "metadata": {},
   "outputs": [
    {
     "name": "stdout",
     "output_type": "stream",
     "text": [
      "---- DecisionTreeClassifier----\n",
      "Acurácia (base de treinamento): 0.7631100374760662\n",
      "Acurácia de previsão: 0.7552010736746366\n",
      "              precision    recall  f1-score   support\n",
      "\n",
      "           0       0.44      0.13      0.21     13546\n",
      "           1       0.39      0.11      0.17     44526\n",
      "           2       0.57      0.62      0.59    132087\n",
      "           3       0.84      0.91      0.88    350787\n",
      "\n",
      "   micro avg       0.76      0.76      0.76    540946\n",
      "   macro avg       0.56      0.44      0.46    540946\n",
      "weighted avg       0.73      0.76      0.73    540946\n",
      "\n",
      "[[  1821   2346   5700   3679]\n",
      " [  1385   4890  26887  11364]\n",
      " [   768   4372  81378  45569]\n",
      " [   209   1046  29098 320434]]\n"
     ]
    },
    {
     "data": {
      "text/plain": [
       "{'criterion': 'entropy', 'min_samples_leaf': 100}"
      ]
     },
     "execution_count": 14,
     "metadata": {},
     "output_type": "execute_result"
    }
   ],
   "source": [
    "dtc = DecisionTreeClassifier(random_state=0)\n",
    "params={'criterion':('gini', 'entropy'), 'min_samples_leaf':[50, 100, 200]}\n",
    "dtc_grid = GridSearchCV(dtc, param_grid=params)\n",
    "dtc_grid = test_classifier(dtc_grid, X_train, X_test, y_train, y_test, \"DecisionTreeClassifier\")\n",
    "dtc_grid.best_params_"
   ]
  },
  {
   "cell_type": "markdown",
   "metadata": {},
   "source": [
    "#### Verificando a importância das variáveis utilizadas pelo algoritmo DecisionTreeClassifier"
   ]
  },
  {
   "cell_type": "code",
   "execution_count": 15,
   "metadata": {
    "scrolled": false
   },
   "outputs": [
    {
     "data": {
      "text/plain": [
       "<matplotlib.axes._subplots.AxesSubplot at 0x1da0c3194a8>"
      ]
     },
     "execution_count": 15,
     "metadata": {},
     "output_type": "execute_result"
    },
    {
     "data": {
      "image/png": "[encoded data removed]",
      "text/plain": [
       "<Figure size 1080x576 with 1 Axes>"
      ]
     },
     "metadata": {
      "needs_background": "light"
     },
     "output_type": "display_data"
    }
   ],
   "source": [
    "# verificar a importância das variáveis\n",
    "X, y = df_final.drop('target', axis=1), df_final['target']\n",
    "plt.figure(figsize=(15,8))\n",
    "sns.barplot(x=dtc_grid.best_estimator_.feature_importances_, y=X.columns)"
   ]
  }
 ],
 "metadata": {
  "kernelspec": {
   "display_name": "Python 3",
   "language": "python",
   "name": "python3"
  },
  "language_info": {
   "codemirror_mode": {
    "name": "ipython",
    "version": 3
   },
   "file_extension": ".py",
   "mimetype": "text/x-python",
   "name": "python",
   "nbconvert_exporter": "python",
   "pygments_lexer": "ipython3",
   "version": "3.7.3"
  }
 },
 "nbformat": 4,
 "nbformat_minor": 2
}
